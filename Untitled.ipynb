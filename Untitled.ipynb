{
 "cells": [
  {
   "cell_type": "code",
   "execution_count": 10,
   "id": "456c87b2",
   "metadata": {},
   "outputs": [
    {
     "name": "stdout",
     "output_type": "stream",
     "text": [
      "Хоча б по одній відмінній оцінці отримали 32 студенти\n"
     ]
    }
   ],
   "source": [
    "m = 15 # кількість студентів, які отримали відмінну оцінку з математики\n",
    "f = 16 # кількість студентів, які отримали відмінну оцінку з фізики\n",
    "h = 19 # кількість студентів, які отримали відмінну оцінку з хімії\n",
    "mf = 7 # кількість студентів, які отримали відмінну оцінку з математики та фізики\n",
    "mh = 9 # кількість студентів, які отримали відмінну оцінку з математики та хімії\n",
    "fh = 6 # кількість студентів, які отримали відмінну оцінку з фізики та хімії\n",
    "mfh = 4 # кількість студентів, які отримали відмінну оцінку з математики, фізики та хімії \n",
    "\n",
    "total = m + f + h - mf - mh - fh + mfh # застосуємо формулу для включень та виключень\n",
    "\n",
    "print(\"Хоча б по одній відмінній оцінці отримали\", total, \"студенти\")"
   ]
  },
  {
   "cell_type": "code",
   "execution_count": null,
   "id": "ccad9848",
   "metadata": {},
   "outputs": [],
   "source": []
  }
 ],
 "metadata": {
  "kernelspec": {
   "display_name": "Python 3 (ipykernel)",
   "language": "python",
   "name": "python3"
  },
  "language_info": {
   "codemirror_mode": {
    "name": "ipython",
    "version": 3
   },
   "file_extension": ".py",
   "mimetype": "text/x-python",
   "name": "python",
   "nbconvert_exporter": "python",
   "pygments_lexer": "ipython3",
   "version": "3.9.13"
  }
 },
 "nbformat": 4,
 "nbformat_minor": 5
}
